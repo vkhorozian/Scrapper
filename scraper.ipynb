{
 "cells": [
  {
   "cell_type": "code",
   "execution_count": null,
   "metadata": {},
   "outputs": [],
   "source": [
    "import requests\n",
    "import pandas as pd\n",
    "import re # regular expression\n",
    "import csv\n",
    "\n",
    "\n",
    "from bs4 import BeautifulSoup"
   ]
  },
  {
   "attachments": {},
   "cell_type": "markdown",
   "metadata": {},
   "source": [
    "\n",
    "## We need two html elements\n",
    "    1. drop down list that will search for keywords stored in a text or json file\n",
    "    2. a text box for zip codes - must add a check to make sure it is a valid zip code \n",
    "    3. a drop down for the radius options - 5, 10, 25, 50, 100 | {page-number } - 3,5,10,20,50\n",
    "    4. a button to submit the search\n",
    " \n",
    "#### let us make it with the numbers hard coded first\n",
    "\n"
   ]
  },
  {
   "cell_type": "code",
   "execution_count": null,
   "metadata": {},
   "outputs": [],
   "source": []
  }
 ],
 "metadata": {
  "language_info": {
   "name": "python"
  },
  "orig_nbformat": 4
 },
 "nbformat": 4,
 "nbformat_minor": 2
}
